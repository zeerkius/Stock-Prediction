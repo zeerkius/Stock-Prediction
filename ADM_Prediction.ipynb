{
 "cells": [
  {
   "cell_type": "code",
   "execution_count": 2,
   "id": "c0f0f0ec-077c-430b-ad97-8b151aba0def",
   "metadata": {},
   "outputs": [],
   "source": [
    "import matplotlib\n",
    "import matplotlib.pyplot as plt\n",
    "import matplotlib.dates as mdates\n",
    "import matplotlib.ticker as mticker\n",
    "import functools\n",
    "import time\n",
    "import numpy as np\n",
    "import os\n",
    "import csv\n",
    "\n",
    "\n",
    "# helper function to display data\n",
    "def byte_date_num(fmt , encoding = \"utf-8\"): # first we have whatever fmt as what we will input as well as the default utf format\n",
    "    def byte_conv(b): # then we will create a nested function to convert the bytes under the encoding \n",
    "        s = b.decode(encoding) # creating variable s we then decodine the input under utf enconding\n",
    "        return mdates.datestr2num(s) # using matlotlib we will use datestr2num then converting datestr to number\n",
    "    return byte_conv # finally we will return the function call\n",
    "\n",
    "# now we will load the stock txt data\n",
    "date ,Open , high , low , close , volume = np.loadtxt(r\"C:\\Users\\agboo\\Downloads\\Archer-Daniels-Midland-Volume.txt\" , unpack = True,\n",
    "                                                             delimiter = \",\" , converters = {0:byte_date_num(\"%Y-%m-%d\")})\n",
    "# volume is number of shares sold\n"
   ]
  },
  {
   "cell_type": "code",
   "execution_count": null,
   "id": "1f7af016-ca7c-4a56-b226-0379ee77bcba",
   "metadata": {},
   "outputs": [],
   "source": []
  },
  {
   "cell_type": "code",
   "execution_count": null,
   "id": "0af20eca-14e8-43d6-a075-ad660f681df3",
   "metadata": {},
   "outputs": [],
   "source": []
  }
 ],
 "metadata": {
  "kernelspec": {
   "display_name": "Python 3 (ipykernel)",
   "language": "python",
   "name": "python3"
  },
  "language_info": {
   "codemirror_mode": {
    "name": "ipython",
    "version": 3
   },
   "file_extension": ".py",
   "mimetype": "text/x-python",
   "name": "python",
   "nbconvert_exporter": "python",
   "pygments_lexer": "ipython3",
   "version": "3.11.9"
  }
 },
 "nbformat": 4,
 "nbformat_minor": 5
}
